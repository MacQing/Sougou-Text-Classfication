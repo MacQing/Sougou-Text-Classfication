{
 "cells": [
  {
   "cell_type": "markdown",
   "metadata": {},
   "source": [
    "# 文本预处理工具\n",
    "- 生成用于训练TfidfVector数据集的方法\n",
    "- 生成用于训练word2vector数据集的方法"
   ]
  },
  {
   "cell_type": "code",
   "execution_count": 50,
   "metadata": {
    "collapsed": false
   },
   "outputs": [
    {
     "name": "stderr",
     "output_type": "stream",
     "text": [
      "C:\\Anaconda34\\lib\\site-packages\\gensim-3.4.0-py3.5-win-amd64.egg\\gensim\\utils.py:1197: UserWarning: detected Windows; aliasing chunkize to chunkize_serial\n",
      "  warnings.warn(\"detected Windows; aliasing chunkize to chunkize_serial\")\n"
     ]
    }
   ],
   "source": [
    "import sys\n",
    "sys.path.append('..')\n",
    "import esProxy\n",
    "from analyzer import Analyzer\n",
    "import pickle, random\n",
    "from sklearn.feature_extraction.text import TfidfVectorizer\n",
    "from gensim.models import Word2Vec"
   ]
  },
  {
   "cell_type": "code",
   "execution_count": 6,
   "metadata": {
    "collapsed": false
   },
   "outputs": [],
   "source": [
    "sougouNews = esProxy.getDataFromEs()\n",
    "\n",
    "with open('sougouNews.pk', 'wb') as f:\n",
    "    f.truncate()\n",
    "    pickle.dump(sougouNews, f)"
   ]
  },
  {
   "cell_type": "markdown",
   "metadata": {},
   "source": [
    "## 生成用于训练TfidfVector数据集的方法"
   ]
  },
  {
   "cell_type": "code",
   "execution_count": 48,
   "metadata": {
    "collapsed": true
   },
   "outputs": [],
   "source": [
    "def getTrainData4Tfidf(file='sougouNews.pk', field='doc_title'):\n",
    "    \"\"\"\n",
    "    数据格式：每行为一个字符串，term之间空格分开\n",
    "    \"\"\"\n",
    "    with open(file, 'rb') as f:\n",
    "        dataSource = pickle.load(f)\n",
    "    \n",
    "    # 分词器\n",
    "    analyzer = Analyzer()\n",
    "    \n",
    "    data4Tfidf = []\n",
    "    for d in dataSource:\n",
    "        title = d[field]\n",
    "        termsString = ' '.join(analyzer.cutAndFilter(title, forSearch=False))\n",
    "        data4Tfidf.append(termsString)\n",
    "    return data4Tfidf"
   ]
  },
  {
   "cell_type": "code",
   "execution_count": 49,
   "metadata": {
    "collapsed": false,
    "scrolled": true
   },
   "outputs": [],
   "source": [
    "data4tfidf = getTrainData4Tfidf(file='sougouNews.pk', field='doc_title')\n",
    "\n",
    "with open('trainData4Tfidf.pk', 'wb') as f:\n",
    "    pickle.dump(data4tfidf, f)"
   ]
  },
  {
   "cell_type": "markdown",
   "metadata": {},
   "source": [
    "### 训练tfidfvectorizro"
   ]
  },
  {
   "cell_type": "code",
   "execution_count": 51,
   "metadata": {
    "collapsed": false
   },
   "outputs": [
    {
     "data": {
      "text/plain": [
       "TfidfVectorizer(analyzer='word', binary=False, decode_error='strict',\n",
       "        dtype=<class 'numpy.int64'>, encoding='utf-8', input='content',\n",
       "        lowercase=True, max_df=1.0, max_features=None, min_df=2,\n",
       "        ngram_range=(1, 1), norm='l2', preprocessor=None, smooth_idf=True,\n",
       "        stop_words=None, strip_accents=None, sublinear_tf=False,\n",
       "        token_pattern='(?u)\\\\b\\\\w\\\\w+\\\\b', tokenizer=None, use_idf=True,\n",
       "        vocabulary=None)"
      ]
     },
     "execution_count": 51,
     "metadata": {},
     "output_type": "execute_result"
    }
   ],
   "source": [
    "tfidfVectorizor = TfidfVectorizer(min_df=2)\n",
    "tfidfVectorizor.fit(data4tfidf)"
   ]
  },
  {
   "cell_type": "markdown",
   "metadata": {},
   "source": [
    "## 生成用于训练word2vector数据集的方法"
   ]
  },
  {
   "cell_type": "code",
   "execution_count": 54,
   "metadata": {
    "collapsed": true
   },
   "outputs": [],
   "source": [
    "import re\n",
    "\n",
    "def getTrainData4Wordvec(file='sougouNews.pk'):\n",
    "    \"\"\"\n",
    "    数据格式：每一行为list，list里的每个元素为一个term\n",
    "    \"\"\"\n",
    "    with open(file, 'rb') as f:\n",
    "        dataSource = pickle.load(f)\n",
    "    \n",
    "    # 分词器\n",
    "    analyzer = Analyzer()\n",
    "    \n",
    "    data4wordvec = []\n",
    "    for d in dataSource:\n",
    "        # 1. 标题为单独的一个句子\n",
    "        # 2. 正文按句号切分出多个句子\n",
    "        sentences = re.split('[。?？]', d['doc_content'])\n",
    "        terms1 = [analyzer.cutAndFilter(sen) for sen in sentences]\n",
    "        data4wordvec.extend(terms1)\n",
    "\n",
    "        terms2 = analyzer.cutAndFilter(d['doc_title'])\n",
    "        data4wordvec.append(terms2)\n",
    "    # 滤除空list\n",
    "    data4wordvec = [d for d in data4wordvec if len(d) > 0]\n",
    "    return data4wordvec"
   ]
  },
  {
   "cell_type": "code",
   "execution_count": 55,
   "metadata": {
    "collapsed": false
   },
   "outputs": [],
   "source": [
    "data4wordvec = getTrainData4Wordvec()\n",
    "\n",
    "with open('trainData4Word2vec.pk', 'wb') as f:\n",
    "    f.truncate()\n",
    "    pickle.dump(data4wordvec, f)"
   ]
  },
  {
   "cell_type": "markdown",
   "metadata": {},
   "source": [
    "### 训练word2vec"
   ]
  },
  {
   "cell_type": "code",
   "execution_count": 56,
   "metadata": {
    "collapsed": false
   },
   "outputs": [
    {
     "name": "stderr",
     "output_type": "stream",
     "text": [
      "C:\\Anaconda34\\lib\\site-packages\\ipykernel\\__main__.py:3: DeprecationWarning: Call to deprecated `iter` (Attribute will be removed in 4.0.0, use self.epochs instead).\n",
      "  app.launch_new_instance()\n"
     ]
    },
    {
     "data": {
      "text/plain": [
       "(128849765, 140245570)"
      ]
     },
     "execution_count": 56,
     "metadata": {},
     "output_type": "execute_result"
    }
   ],
   "source": [
    "word2vec = Word2Vec(size=100, window=3, min_count=1)\n",
    "word2vec.build_vocab(data4wordvec)\n",
    "word2vec.train(data4wordvec, total_examples=word2vec.corpus_count,epochs=word2vec.iter)"
   ]
  },
  {
   "cell_type": "code",
   "execution_count": 57,
   "metadata": {
    "collapsed": false
   },
   "outputs": [
    {
     "data": {
      "text/plain": [
       "[('男性', 0.8309999704360962),\n",
       " ('军人', 0.6905989050865173),\n",
       " ('年轻人', 0.6876094341278076),\n",
       " ('儿童', 0.6672907471656799),\n",
       " ('男人', 0.6606389880180359),\n",
       " ('普通人', 0.6577602624893188),\n",
       " ('妇女', 0.648067831993103),\n",
       " ('职业女性', 0.6274821758270264),\n",
       " ('国人', 0.6245989799499512),\n",
       " ('白领', 0.6231762766838074)]"
      ]
     },
     "execution_count": 57,
     "metadata": {},
     "output_type": "execute_result"
    }
   ],
   "source": [
    "word2vec.wv.similar_by_word('女性')"
   ]
  },
  {
   "cell_type": "code",
   "execution_count": 58,
   "metadata": {
    "collapsed": true
   },
   "outputs": [],
   "source": [
    "with open('word2vec.model', 'wb') as f:\n",
    "    f.truncate()\n",
    "    pickle.dump(word2vec, f)"
   ]
  },
  {
   "cell_type": "code",
   "execution_count": null,
   "metadata": {
    "collapsed": true
   },
   "outputs": [],
   "source": []
  }
 ],
 "metadata": {
  "kernelspec": {
   "display_name": "Python [Root]",
   "language": "python",
   "name": "Python [Root]"
  },
  "language_info": {
   "codemirror_mode": {
    "name": "ipython",
    "version": 3
   },
   "file_extension": ".py",
   "mimetype": "text/x-python",
   "name": "python",
   "nbconvert_exporter": "python",
   "pygments_lexer": "ipython3",
   "version": "3.5.2"
  }
 },
 "nbformat": 4,
 "nbformat_minor": 0
}
