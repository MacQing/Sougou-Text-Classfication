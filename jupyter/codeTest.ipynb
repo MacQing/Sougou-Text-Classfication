{
 "cells": [
  {
   "cell_type": "markdown",
   "metadata": {
    "collapsed": false
   },
   "source": [
    "## 文本分类步骤\n",
    "- 划分数据集\n",
    "- 对标题和正文分词和去停用词\n",
    "- 计算tf-idf等特征\n",
    "- 构建分类器"
   ]
  },
  {
   "cell_type": "code",
   "execution_count": 10,
   "metadata": {
    "collapsed": false
   },
   "outputs": [
    {
     "data": {
      "text/plain": [
       "{'文档': 0, '第一': 1, '第二': 2, '这是': 3}"
      ]
     },
     "execution_count": 10,
     "metadata": {},
     "output_type": "execute_result"
    }
   ],
   "source": [
    "from sklearn.feature_extraction.text import TfidfVectorizer\n",
    "\n",
    "X_train = ['这是 第一 篇 文档', '这是 第二 篇 文档.']\n",
    "X_test = ['这是 第三 篇 文档']\n",
    "vectorizer = TfidfVectorizer()\n",
    "# 用X_train数据来fit\n",
    "vectorizer.fit(X_train)\n",
    "# 得到tfidf的矩阵\n",
    "tfidf_train = vectorizer.transform(X_train)\n",
    "tfidf_test = vectorizer.transform(X_test)\n",
    "\n",
    "tfidf_train.toarray()\n",
    "\n",
    "vectorizer.vocabulary_"
   ]
  },
  {
   "cell_type": "code",
   "execution_count": null,
   "metadata": {
    "collapsed": true
   },
   "outputs": [],
   "source": []
  }
 ],
 "metadata": {
  "anaconda-cloud": {},
  "kernelspec": {
   "display_name": "Python [Root]",
   "language": "python",
   "name": "Python [Root]"
  },
  "language_info": {
   "codemirror_mode": {
    "name": "ipython",
    "version": 3
   },
   "file_extension": ".py",
   "mimetype": "text/x-python",
   "name": "python",
   "nbconvert_exporter": "python",
   "pygments_lexer": "ipython3",
   "version": "3.5.2"
  }
 },
 "nbformat": 4,
 "nbformat_minor": 0
}
