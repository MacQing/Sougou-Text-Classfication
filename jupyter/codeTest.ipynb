{
 "cells": [
  {
   "cell_type": "code",
   "execution_count": 10,
   "metadata": {
    "collapsed": false
   },
   "outputs": [],
   "source": [
    "from collections import defaultdict\n",
    "\n",
    "sougouTceTxt = '../data/SogouTCE.txt'\n",
    "\n",
    "def loadDocTypeDict():\n",
    "    typeDict = defaultdict(str)\n",
    "    with open(sougouTceTxt, 'r', encoding='gb18030') as f:\n",
    "        for line in f.readlines():\n",
    "            splitedLine = line.strip().split('\\t')\n",
    "            if len(splitedLine) == 2:\n",
    "                typeDict[splitedLine[0]] = splitedLine[1]\n",
    "    return typeDict\n",
    "\n",
    "dic = loadDocTypeDict()"
   ]
  },
  {
   "cell_type": "code",
   "execution_count": 11,
   "metadata": {
    "collapsed": false
   },
   "outputs": [
    {
     "data": {
      "text/plain": [
       "defaultdict(str,\n",
       "            {'http://163.39.net/': '健康',\n",
       "             'http://2008.163.com/': '奥运',\n",
       "             'http://2008.china.com/': '奥运',\n",
       "             'http://2008.qq.com/': '奥运',\n",
       "             'http://2008.sina.com.cn/': '奥运',\n",
       "             'http://2008.sohu.com/': '奥运',\n",
       "             'http://auto.163.com/': '汽车',\n",
       "             'http://auto.china.com/': '汽车',\n",
       "             'http://auto.qq.com/': '汽车',\n",
       "             'http://auto.sina.com.cn/': '汽车',\n",
       "             'http://auto.sohu.com/': '汽车',\n",
       "             'http://business.sohu.com/': '财经',\n",
       "             'http://caifu.china.com/': '财经',\n",
       "             'http://campus.qq.com/': '校园',\n",
       "             'http://career.sohu.com/': '招聘',\n",
       "             'http://china.soufun.com/': '房产',\n",
       "             'http://cul.book.sina.com.cn/': '文化',\n",
       "             'http://cul.qq.com/': '文化',\n",
       "             'http://cul.sohu.com/': '文化',\n",
       "             'http://culture.china.com/': '文化',\n",
       "             'http://edu.533.com/': '教育',\n",
       "             'http://edu.533.com/news/xiaoyuan/': '校园',\n",
       "             'http://edu.qq.com/': '教育',\n",
       "             'http://edu.qq.com/job/': '招聘',\n",
       "             'http://edu.sina.com.cn/': '教育',\n",
       "             'http://edu.sina.com.cn/j/': '招聘',\n",
       "             'http://edu.sina.com.cn/y/': '校园',\n",
       "             'http://eladies.sina.com.cn/': '女性',\n",
       "             'http://ent.163.com/': '娱乐',\n",
       "             'http://ent.qq.com/': '娱乐',\n",
       "             'http://ent.sina.com.cn/': '娱乐',\n",
       "             'http://finance.qq.com/': '财经',\n",
       "             'http://finance.sina.com.cn/': '财经',\n",
       "             'http://fun.china.com/zh_cn/star/': '娱乐',\n",
       "             'http://goo66.china.com/': '旅游',\n",
       "             'http://health.china.com/': '健康',\n",
       "             'http://health.sohu.com/': '健康',\n",
       "             'http://house.163.com/': '房产',\n",
       "             'http://house.qq.com/': '房产',\n",
       "             'http://house.sina.com.cn/': '房产',\n",
       "             'http://house.sohu.com/': '房产',\n",
       "             'http://it.sohu.com/': 'IT',\n",
       "             'http://lady.163.com/': '女性',\n",
       "             'http://lady.qq.com/': '女性',\n",
       "             'http://learning.sohu.com/': '教育',\n",
       "             'http://meirong.533.com/': '女性',\n",
       "             'http://mil.news.sina.com.cn/': '军事',\n",
       "             'http://mil.news.sohu.com/': '军事',\n",
       "             'http://mil.qq.com/': '军事',\n",
       "             'http://military.china.com/': '军事',\n",
       "             'http://money.163.com/': '财经',\n",
       "             'http://news.163.com/domestic/': '国内',\n",
       "             'http://news.163.com/shehui/': '社会',\n",
       "             'http://news.163.com/world/': '国际',\n",
       "             'http://news.china.com/zh_cn/domestic/': '国内',\n",
       "             'http://news.china.com/zh_cn/international/': '国际',\n",
       "             'http://news.china.com/zh_cn/social/': '社会',\n",
       "             'http://news.sina.com.cn/china/': '国内',\n",
       "             'http://news.sina.com.cn/society/': '社会',\n",
       "             'http://news.sina.com.cn/world/': '国际',\n",
       "             'http://sina.kangq.com/': '健康',\n",
       "             'http://sports.163.com/': '体育',\n",
       "             'http://sports.china.com/': '体育',\n",
       "             'http://sports.qq.com/': '体育',\n",
       "             'http://sports.sina.com.cn/': '体育',\n",
       "             'http://sports.sohu.com/': '体育',\n",
       "             'http://tech.163.com/it/': 'IT',\n",
       "             'http://tech.china.com/zh_cn/news/net/': 'IT',\n",
       "             'http://tech.qq.com/': 'IT',\n",
       "             'http://tech.sina.com.cn/it/': 'IT',\n",
       "             'http://tour.sina.com.cn/': '旅游',\n",
       "             'http://travel.sohu.com/': '旅游',\n",
       "             'http://war.163.com/': '军事',\n",
       "             'http://women.sohu.com/': '女性',\n",
       "             'http://www.xinhuanet.com/auto/': '汽车',\n",
       "             'http://www.xinhuanet.com/edu': '教育',\n",
       "             'http://www.xinhuanet.com/employment': '招聘',\n",
       "             'http://www.xinhuanet.com/ent': '娱乐',\n",
       "             'http://www.xinhuanet.com/fortune': '财经',\n",
       "             'http://www.xinhuanet.com/health/': '健康',\n",
       "             'http://www.xinhuanet.com/house': '房产',\n",
       "             'http://www.xinhuanet.com/internet/': 'IT',\n",
       "             'http://www.xinhuanet.com/lady': '女性',\n",
       "             'http://www.xinhuanet.com/life': '文化',\n",
       "             'http://www.xinhuanet.com/local/': '国内',\n",
       "             'http://www.xinhuanet.com/mil': '军事',\n",
       "             'http://www.xinhuanet.com/olympics/': '奥运',\n",
       "             'http://www.xinhuanet.com/school': '校园',\n",
       "             'http://www.xinhuanet.com/society': '社会',\n",
       "             'http://www.xinhuanet.com/sports': '体育',\n",
       "             'http://www.xinhuanet.com/travel': '旅游',\n",
       "             'http://www.xinhuanet.com/world': '国际',\n",
       "             'http://yule.sohu.com/': '娱乐'})"
      ]
     },
     "execution_count": 11,
     "metadata": {},
     "output_type": "execute_result"
    }
   ],
   "source": [
    "dic"
   ]
  },
  {
   "cell_type": "code",
   "execution_count": null,
   "metadata": {
    "collapsed": true
   },
   "outputs": [],
   "source": []
  }
 ],
 "metadata": {
  "anaconda-cloud": {},
  "kernelspec": {
   "display_name": "Python [Root]",
   "language": "python",
   "name": "Python [Root]"
  },
  "language_info": {
   "codemirror_mode": {
    "name": "ipython",
    "version": 3
   },
   "file_extension": ".py",
   "mimetype": "text/x-python",
   "name": "python",
   "nbconvert_exporter": "python",
   "pygments_lexer": "ipython3",
   "version": "3.5.2"
  }
 },
 "nbformat": 4,
 "nbformat_minor": 0
}
