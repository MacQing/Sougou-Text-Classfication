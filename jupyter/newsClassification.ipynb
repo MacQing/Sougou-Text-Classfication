{
 "cells": [
  {
   "cell_type": "markdown",
   "metadata": {},
   "source": [
    "### 训练向量化模型\n",
    "- TfidfVectorizor\n",
    "- Word2Vec"
   ]
  },
  {
   "cell_type": "code",
   "execution_count": 27,
   "metadata": {
    "collapsed": false
   },
   "outputs": [],
   "source": [
    "import pickle\n",
    "from sklearn.feature_extraction.text import TfidfVectorizer\n",
    "from gensim.models import Word2Vec\n",
    "import datetime\n",
    "import numpy as np"
   ]
  },
  {
   "cell_type": "code",
   "execution_count": 2,
   "metadata": {
    "collapsed": false
   },
   "outputs": [
    {
     "name": "stdout",
     "output_type": "stream",
     "text": [
      "2018-05-29 23:35:34\n"
     ]
    }
   ],
   "source": [
    "# 获取当前时间，用户日志打印\n",
    "def timenow():\n",
    "    return datetime.datetime.now().strftime('%Y-%m-%d %H:%M:%S')\n",
    "print(timenow())"
   ]
  },
  {
   "cell_type": "code",
   "execution_count": 3,
   "metadata": {
    "collapsed": false
   },
   "outputs": [
    {
     "name": "stdout",
     "output_type": "stream",
     "text": [
      "2018-05-29 23:35:44-train size=82656.\n",
      "2018-05-29 23:36:04-train TfidfVectorizor finished.\n"
     ]
    }
   ],
   "source": [
    "# 载入训练数据\n",
    "with open('tokenSougouNews-train.pk', 'rb') as f:\n",
    "    trainData = pickle.load(f)\n",
    "    trainData4Tfidf = [' '.join((d['doc_title'] + d['doc_content']))\n",
    "                       for d in trainData]\n",
    "print('%s-train size=%d.' % (timenow(), len(trainData4Tfidf)))\n",
    "\n",
    "# 训练TfidfVectorizor\n",
    "tfidfVectorizor = TfidfVectorizer()\n",
    "tfidfVectorizor.fit(trainData4Tfidf)\n",
    "print('%s-train TfidfVectorizor finished.' % (timenow()))"
   ]
  },
  {
   "cell_type": "code",
   "execution_count": 4,
   "metadata": {
    "collapsed": false,
    "scrolled": true
   },
   "outputs": [
    {
     "name": "stdout",
     "output_type": "stream",
     "text": [
      "2018-05-29 23:36:08-生成训练数据: size=82656\n"
     ]
    },
    {
     "name": "stderr",
     "output_type": "stream",
     "text": [
      "C:\\Anaconda34\\lib\\site-packages\\ipykernel\\__main__.py:7: DeprecationWarning: Call to deprecated `iter` (Attribute will be removed in 4.0.0, use self.epochs instead).\n"
     ]
    },
    {
     "name": "stdout",
     "output_type": "stream",
     "text": [
      "2018-05-29 23:38:40-train word2vec finished.\n"
     ]
    }
   ],
   "source": [
    "# 训练word2vec\n",
    "sentences = [d.split() for d in trainData4Tfidf if len(d) > 0]\n",
    "print('%s-生成训练数据: size=%d' % (timenow(), len(sentences)))\n",
    "\n",
    "word2vec = Word2Vec(size=100, window=3, min_count=1)\n",
    "word2vec.build_vocab(sentences)\n",
    "word2vec.train(sentences, total_examples=word2vec.corpus_count,epochs=word2vec.iter)\n",
    "print('%s-train word2vec finished.' % (timenow()))"
   ]
  },
  {
   "cell_type": "code",
   "execution_count": 14,
   "metadata": {
    "collapsed": false
   },
   "outputs": [
    {
     "data": {
      "text/plain": [
       "[('男性', 0.8334938883781433),\n",
       " ('年轻人', 0.6696390509605408),\n",
       " ('军人', 0.6621428728103638),\n",
       " ('白领', 0.6518714427947998),\n",
       " ('儿童', 0.6363332271575928),\n",
       " ('男人', 0.6311925649642944),\n",
       " ('国人', 0.6270802021026611),\n",
       " ('成人', 0.6261032819747925),\n",
       " ('审美', 0.6210224628448486),\n",
       " ('妇女', 0.6197933554649353)]"
      ]
     },
     "execution_count": 14,
     "metadata": {},
     "output_type": "execute_result"
    }
   ],
   "source": [
    "word2vec.wv.similar_by_word('女性')"
   ]
  },
  {
   "cell_type": "markdown",
   "metadata": {},
   "source": [
    "### 构建分类器"
   ]
  },
  {
   "cell_type": "code",
   "execution_count": 5,
   "metadata": {
    "collapsed": true
   },
   "outputs": [],
   "source": [
    "from sklearn.naive_bayes import MultinomialNB, BernoulliNB\n",
    "from sklearn.svm import LinearSVC\n",
    "from sklearn.linear_model import LogisticRegression\n",
    "from sklearn.pipeline import Pipeline\n",
    "from sklearn.metrics import accuracy_score\n",
    "import sys\n",
    "sys.path.append('..')\n",
    "\n",
    "import vectorizor"
   ]
  },
  {
   "cell_type": "code",
   "execution_count": 7,
   "metadata": {
    "collapsed": false
   },
   "outputs": [
    {
     "name": "stdout",
     "output_type": "stream",
     "text": [
      "2018-05-29 23:40:28-train size=82656\n",
      "2018-05-29 23:40:28-test size=20664\n"
     ]
    }
   ],
   "source": [
    "# 载入训练数据和测试数据\n",
    "with open('tokenSougouNews-test.pk', 'rb') as f:\n",
    "    testData = pickle.load(f)\n",
    "with open('tokenSougouNews-train.pk', 'rb') as f:\n",
    "    trainData = pickle.load(f)\n",
    "trainX = [dict(doc_title=' '.join(d['doc_title'])) for d in trainData]\n",
    "trainY = [d['doc_type'] for d in trainData]\n",
    "print('%s-train size=%d' % (timenow(), len(trainX)))\n",
    "testX = [dict(doc_title=' '.join(d['doc_title'])) for d in testData]\n",
    "testY = [d['doc_type'] for d in testData]\n",
    "print('%s-test size=%d' % (timenow(), len(testX)))"
   ]
  },
  {
   "cell_type": "code",
   "execution_count": 9,
   "metadata": {
    "collapsed": false
   },
   "outputs": [
    {
     "name": "stderr",
     "output_type": "stream",
     "text": [
      "C:\\Anaconda34\\lib\\site-packages\\sklearn\\feature_extraction\\text.py:1015: FutureWarning: Conversion of the second argument of issubdtype from `float` to `np.floating` is deprecated. In future, it will be treated as `np.float64 == np.dtype(float).type`.\n",
      "  if hasattr(X, 'dtype') and np.issubdtype(X.dtype, np.float):\n"
     ]
    },
    {
     "name": "stdout",
     "output_type": "stream",
     "text": [
      "2018-05-29 23:41:06-tfidf+lr: trainAcc=0.918518, testAcc=0.876597\n"
     ]
    }
   ],
   "source": [
    "# tfidf + lr\n",
    "tfidfLrClf = Pipeline([('tfidfVectorizor', vectorizor.TfidfVectorizor(tfidfVectorizor, ['doc_title'])),\n",
    "                 ('lr', LogisticRegression())])\n",
    "tfidfLrClf.fit(trainX, trainY)\n",
    "\n",
    "trainAcc = accuracy_score(trainY, tfidfLrClf.predict(trainX))\n",
    "testAcc = accuracy_score(testY, tfidfLrClf.predict(testX))\n",
    "print('%s-tfidf+lr: trainAcc=%f, testAcc=%f' % (timenow(), trainAcc, testAcc))"
   ]
  },
  {
   "cell_type": "code",
   "execution_count": 10,
   "metadata": {
    "collapsed": false
   },
   "outputs": [
    {
     "name": "stdout",
     "output_type": "stream",
     "text": [
      "2018-05-29 23:43:37-word2vec+lr: trainAcc=0.844343, testAcc=0.847464\n"
     ]
    }
   ],
   "source": [
    "# word2vec + lr\n",
    "w2cLrClf = Pipeline([('tfidfVectorizor', vectorizor.Doc2VecVectorizor(word2vec, ['doc_title'])),\n",
    "                 ('lr', LogisticRegression())])\n",
    "w2cLrClf.fit(trainX, trainY)\n",
    "\n",
    "trainAcc = accuracy_score(trainY, w2cLrClf.predict(trainX))\n",
    "testAcc = accuracy_score(testY, w2cLrClf.predict(testX))\n",
    "print('%s-word2vec+lr: trainAcc=%f, testAcc=%f' % (timenow(), trainAcc, testAcc))"
   ]
  },
  {
   "cell_type": "code",
   "execution_count": 15,
   "metadata": {
    "collapsed": false
   },
   "outputs": [
    {
     "name": "stderr",
     "output_type": "stream",
     "text": [
      "C:\\Anaconda34\\lib\\site-packages\\sklearn\\feature_extraction\\text.py:1015: FutureWarning: Conversion of the second argument of issubdtype from `float` to `np.floating` is deprecated. In future, it will be treated as `np.float64 == np.dtype(float).type`.\n",
      "  if hasattr(X, 'dtype') and np.issubdtype(X.dtype, np.float):\n"
     ]
    },
    {
     "name": "stdout",
     "output_type": "stream",
     "text": [
      "2018-05-29 23:46:46-tfidf+svm: trainAcc=0.982639, testAcc=0.900019\n"
     ]
    }
   ],
   "source": [
    "# tfidf + svm\n",
    "tfidfSvmClf = Pipeline([('tfidfVectorizor', vectorizor.TfidfVectorizor(tfidfVectorizor, ['doc_title'])),\n",
    "                 ('svm', LinearSVC())])\n",
    "tfidfSvmClf.fit(trainX, trainY)\n",
    "\n",
    "trainAcc = accuracy_score(trainY, tfidfSvmClf.predict(trainX))\n",
    "testAcc = accuracy_score(testY, tfidfSvmClf.predict(testX))\n",
    "print('%s-tfidf+svm: trainAcc=%f, testAcc=%f' % (timenow(), trainAcc, testAcc))"
   ]
  },
  {
   "cell_type": "code",
   "execution_count": 16,
   "metadata": {
    "collapsed": false
   },
   "outputs": [
    {
     "name": "stdout",
     "output_type": "stream",
     "text": [
      "2018-05-29 23:50:04-word2vec+svm: trainAcc=0.841355, testAcc=0.845528\n"
     ]
    }
   ],
   "source": [
    "# word2vec + svm\n",
    "w2cSvmClf = Pipeline([('tfidfVectorizor', vectorizor.Doc2VecVectorizor(word2vec, ['doc_title'])),\n",
    "                 ('svm', LinearSVC())])\n",
    "w2cSvmClf.fit(trainX, trainY)\n",
    "\n",
    "trainAcc = accuracy_score(trainY, w2cSvmClf.predict(trainX))\n",
    "testAcc = accuracy_score(testY, w2cSvmClf.predict(testX))\n",
    "print('%s-word2vec+svm: trainAcc=%f, testAcc=%f' % (timenow(), trainAcc, testAcc))"
   ]
  },
  {
   "cell_type": "markdown",
   "metadata": {},
   "source": [
    "### word2vec + LSTM"
   ]
  },
  {
   "cell_type": "code",
   "execution_count": 17,
   "metadata": {
    "collapsed": true
   },
   "outputs": [],
   "source": [
    "# 载入训练数据和测试数据\n",
    "with open('tokenSougouNews-test.pk', 'rb') as f:\n",
    "    testData = pickle.load(f)\n",
    "with open('tokenSougouNews-train.pk', 'rb') as f:\n",
    "    trainData = pickle.load(f)\n",
    "\n",
    "# 由于LSTM需要指定input_length，这里确定训练数据中标题的最大单词个数\n",
    "wordsMax = 0\n",
    "for d in testData:\n",
    "    wordsMax = max(wordsMax, len(d['doc_title']))\n",
    "print('%s-最大单词个数：%d' % (timenow(), wordsMax))"
   ]
  },
  {
   "cell_type": "code",
   "execution_count": 30,
   "metadata": {
    "collapsed": false
   },
   "outputs": [],
   "source": [
    "# 转化为可以用于LSTM训练的数据\n",
    "def toLstmInputs(data,word2vec, wordsMax=25, maskValue=0):\n",
    "    inputDim = word2vec.vector_size\n",
    "    lstmInputs = []\n",
    "    for row in data:\n",
    "        words = row['doc_title']\n",
    "        print('%s-words=%s' % (timenow(), words))\n",
    "        lstmInputs.append([word2vec[words[index]] if index < len(words) and words[index] in word2vec else maskValue * np.ones(inputDim) for index in range(wordsMax)])\n",
    "    return lstmInputs"
   ]
  },
  {
   "cell_type": "code",
   "execution_count": null,
   "metadata": {
    "collapsed": true
   },
   "outputs": [],
   "source": []
  }
 ],
 "metadata": {
  "anaconda-cloud": {},
  "kernelspec": {
   "display_name": "Python [Root]",
   "language": "python",
   "name": "Python [Root]"
  },
  "language_info": {
   "codemirror_mode": {
    "name": "ipython",
    "version": 3
   },
   "file_extension": ".py",
   "mimetype": "text/x-python",
   "name": "python",
   "nbconvert_exporter": "python",
   "pygments_lexer": "ipython3",
   "version": "3.5.2"
  }
 },
 "nbformat": 4,
 "nbformat_minor": 0
}
